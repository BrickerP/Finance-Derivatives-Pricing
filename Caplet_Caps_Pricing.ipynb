{
 "cells":[
  {
   "cell_type":"code",
   "source":[
    "import numpy as np \n",
    "import pandas as pd \n",
    "from scipy.stats import norm \n",
    "from scipy.optimize import root \n",
    "import matplotlib.pyplot as plt"
   ],
   "execution_count":50,
   "outputs":[
    
   ],
   "metadata":{
    "datalore":{
     "type":"CODE",
     "hide_input_from_viewers":false,
     "hide_output_from_viewers":false
    }
   }
  },
  {
   "cell_type":"code",
   "source":[
    "def DiscountFactor(S, T, f): \n",
    "    D = np.exp(- (T - S) * f) \n",
    "    return D\n",
    "T = 1 \n",
    "delta = 0.25 \n",
    "f = 0.0125\n",
    "D = DiscountFactor(0, T + delta, f)\n",
    "D"
   ],
   "execution_count":51,
   "outputs":[
    {
     "data":{
      "text\/plain":[
       "0.9844964370054085"
      ]
     },
     "metadata":{
      
     },
     "output_type":"display_data"
    }
   ],
   "metadata":{
    "datalore":{
     "type":"CODE",
     "hide_input_from_viewers":false,
     "hide_output_from_viewers":false
    }
   }
  },
  {
   "cell_type":"markdown",
   "source":[
    "## Q1 (a)\n",
    "Discount factor is 0.9844964370054085"
   ],
   "attachments":{
    
   },
   "metadata":{
    "datalore":{
     "type":"MD",
     "hide_input_from_viewers":false,
     "hide_output_from_viewers":false
    }
   }
  },
  {
   "cell_type":"code",
   "source":[
    "F_0 = (1 \/ delta) * ( np.exp(delta * f) - 1) \n",
    "print(F_0)\n",
    "def BS_F_Put(F_0, K, T, sigma, delta, D): \n",
    "    d_1 = (np.log(F_0 \/ K) + 0.5 * (sigma ** 2) * T) \/ (sigma * np.sqrt(T)) \n",
    "    d_2 = d_1 - sigma * np.sqrt(T) \n",
    "    return delta * D * (norm.cdf(- d_2) * K - norm.cdf(- d_1) * F_0) \n",
    "sigma = 0.15 \n",
    "K = 0.0125\n",
    "P_BS = BS_F_Put(F_0, K, T, sigma, delta, D) \n",
    "P_BS"
   ],
   "execution_count":52,
   "outputs":[
    {
     "name":"stdout",
     "text":[
      "0.012519551610956192\n"
     ],
     "output_type":"stream"
    },
    {
     "data":{
      "text\/plain":[
       "0.00018168026859652882"
      ]
     },
     "metadata":{
      
     },
     "output_type":"display_data"
    }
   ],
   "metadata":{
    "datalore":{
     "type":"CODE",
     "hide_input_from_viewers":false,
     "hide_output_from_viewers":false
    }
   }
  },
  {
   "cell_type":"markdown",
   "source":[
    "## Q1 (b)\n",
    "F0 is 0.012519551610956192 <p>\n",
    "The price of Caplet under Black Scholes Model is 0.0006248928835618972"
   ],
   "attachments":{
    
   },
   "metadata":{
    "datalore":{
     "type":"MD",
     "hide_input_from_viewers":false,
     "hide_output_from_viewers":false
    }
   }
  },
  {
   "cell_type":"code",
   "source":[
    "sigman = sigma * F_0 \n",
    "sigman"
   ],
   "execution_count":53,
   "outputs":[
    {
     "data":{
      "text\/plain":[
       "0.0018779327416434287"
      ]
     },
     "metadata":{
      
     },
     "output_type":"display_data"
    }
   ],
   "metadata":{
    "datalore":{
     "type":"CODE",
     "hide_input_from_viewers":false,
     "hide_output_from_viewers":false
    }
   }
  },
  {
   "cell_type":"markdown",
   "source":[
    "## Q1 (c)\n",
    "$\\sigma_{n}$ should be 0.0018779327416434287"
   ],
   "attachments":{
    
   },
   "metadata":{
    "datalore":{
     "type":"MD",
     "hide_input_from_viewers":false,
     "hide_output_from_viewers":false
    }
   }
  },
  {
   "cell_type":"code",
   "source":[
    "def BachelierPut(F_0, K, T, sigma, delta, D): \n",
    "    d1 = -(F_0 - K) \/ (sigma * np.sqrt(T)) \n",
    "    P = delta * D * sigma * np.sqrt(T) * (d1 * norm.cdf(d1) + norm.pdf(d1)) \n",
    "    return P\n",
    "P_norm = BachelierPut(F_0, K, T, sigman, delta, D) \n",
    "print(\"The price under the Bachelier model is {:.10f}.\".format(P_norm))\n",
    "difference = P_BS - P_norm\n",
    "print(\"The difference betweem prices under diferent models is {:.10f}.\".format(difference))"
   ],
   "execution_count":54,
   "outputs":[
    {
     "name":"stdout",
     "text":[
      "The price under the Bachelier model is 0.0001819969.\n",
      "The difference betweem prices under diferent models is -0.0000003166.\n"
     ],
     "output_type":"stream"
    }
   ],
   "metadata":{
    "datalore":{
     "type":"CODE",
     "hide_input_from_viewers":false,
     "hide_output_from_viewers":false
    }
   }
  },
  {
   "cell_type":"markdown",
   "source":[
    "## Q1 (d)\n",
    "The price under the Bachelier model is 0.0001097029.<p>\n",
    "The two prices are almost the same, it's because the variance increments are almost the same in two models.\n",
    "\n",
    "The difference between the two prices is 0.0000001553, the price under the normal model is higher. It's because that the Bachelier model allows negative F while Black-Scholes model only allows positive F."
   ],
   "attachments":{
    
   },
   "metadata":{
    "datalore":{
     "type":"MD",
     "hide_input_from_viewers":false,
     "hide_output_from_viewers":false
    }
   }
  },
  {
   "cell_type":"code",
   "source":[
    "def Greeks_BS(F_0, K, sigma, T, delta, D):\n",
    "    d1 = ( np.log( F_0 \/ K) + 0.5 * (sigma ** 2) * T ) \/ (sigma * np.sqrt(T))\n",
    "    Delta = delta * D * ( norm.cdf(d1) - 1 )\n",
    "    Gamma = delta * D * ( norm.pdf(d1) \/ (F_0 * sigma * np.sqrt(T)) )\n",
    "    Vega  = delta * D * ( F_0 * np.sqrt(T) * norm.pdf(d1) )\n",
    "    Theta = -delta * D * ( (F_0 * norm.pdf(d1) * sigma) \/ (2 * np.sqrt(T)) )\n",
    "    Price = BS_F_Put(F_0, K, T, sigma, delta, D)\n",
    "    return Price, Delta, Gamma, Vega, Theta\n",
    "\n",
    "Strikes = [0.005, 0.0075, 0.01, 0.0125]\n",
    "# Prices, Delta, Gamma, Vega, Theta = [Greeks_BS(F_0, k, sigma, T, delta, D) for k in Strikes]\n",
    "# data_Greeks_df = pd.DataFrame(Prices, Delta, Gamma, Vega, Theta)\n",
    "df = pd.DataFrame(Greeks_BS(F_0, k, sigma, T, delta, D) for k in Strikes)\n",
    "df.columns = ['Prices', 'Delta', 'Gamma', 'Vega', 'Theta']\n",
    "df"
   ],
   "execution_count":55,
   "outputs":[
    {
     "data":{
      "text\/html":[
       "<div>\n",
       "<style scoped>\n",
       "    .dataframe tbody tr th:only-of-type {\n",
       "        vertical-align: middle;\n",
       "    }\n",
       "\n",
       "    .dataframe tbody tr th {\n",
       "        vertical-align: top;\n",
       "    }\n",
       "\n",
       "    .dataframe thead th {\n",
       "        text-align: right;\n",
       "    }\n",
       "<\/style>\n",
       "<table border=\"1\" class=\"dataframe\">\n",
       "  <thead>\n",
       "    <tr style=\"text-align: right;\">\n",
       "      <th><\/th>\n",
       "      <th>Prices<\/th>\n",
       "      <th>Delta<\/th>\n",
       "      <th>Gamma<\/th>\n",
       "      <th>Vega<\/th>\n",
       "      <th>Theta<\/th>\n",
       "    <\/tr>\n",
       "  <\/thead>\n",
       "  <tbody>\n",
       "    <tr>\n",
       "      <th>0<\/th>\n",
       "      <td>2.134868e-14<\/td>\n",
       "      <td>-7.217245e-11<\/td>\n",
       "      <td>2.439647e-07<\/td>\n",
       "      <td>5.735823e-12<\/td>\n",
       "      <td>-4.301867e-13<\/td>\n",
       "    <\/tr>\n",
       "    <tr>\n",
       "      <th>1<\/th>\n",
       "      <td>2.906480e-08<\/td>\n",
       "      <td>-5.923641e-05<\/td>\n",
       "      <td>1.180617e-01<\/td>\n",
       "      <td>2.775734e-06<\/td>\n",
       "      <td>-2.081801e-07<\/td>\n",
       "    <\/tr>\n",
       "    <tr>\n",
       "      <th>2<\/th>\n",
       "      <td>1.213562e-05<\/td>\n",
       "      <td>-1.423937e-02<\/td>\n",
       "      <td>1.517264e+01<\/td>\n",
       "      <td>3.567220e-04<\/td>\n",
       "      <td>-2.675415e-05<\/td>\n",
       "    <\/tr>\n",
       "    <tr>\n",
       "      <th>3<\/th>\n",
       "      <td>1.816803e-04<\/td>\n",
       "      <td>-1.146850e-01<\/td>\n",
       "      <td>5.209545e+01<\/td>\n",
       "      <td>1.224810e-03<\/td>\n",
       "      <td>-9.186072e-05<\/td>\n",
       "    <\/tr>\n",
       "  <\/tbody>\n",
       "<\/table>\n",
       "<\/div>"
      ]
     },
     "metadata":{
      
     },
     "output_type":"display_data"
    }
   ],
   "metadata":{
    "datalore":{
     "type":"CODE",
     "hide_input_from_viewers":false,
     "hide_output_from_viewers":false
    }
   }
  },
  {
   "cell_type":"markdown",
   "source":[
    "## Q1 (e)\n",
    "K = 0.0125 options have the highest gamma vega and gamma. K = 0.005 options have the highest theta.\n",
    "\n",
    "Gamma measures hedging risk. When the underlying price is close to the strike price, the uncertainty of whether the option will be exercised is the greatest, and the hedging risk is also the highest at this time, and Gamma reaches its maximum value. \n",
    "\n",
    "The Vega value is highest when the underlying price is close to the strike price of the option. As the option is about to expire, the Vega value declines. The longer the expiration time, the higher the Vega value of the option. \n",
    "\n",
    "So, Gamma and Vega are both the highest when K = 0.0125 == F0\n",
    "\n",
    "The Theta is the amount by which an option's value declines every day, it's usually negative. For put options, as K approaches F0 from lower points, the option value increases. Thus, the highest value of put option is at K = 0.0125, and as we know Theta is the value lost through time, Theta is the highest at K = 0.005."
   ],
   "attachments":{
    
   },
   "metadata":{
    "datalore":{
     "type":"MD",
     "hide_input_from_viewers":false,
     "hide_output_from_viewers":false
    }
   }
  },
  {
   "cell_type":"code",
   "source":[
    "def Caps(Ti, Length, Black_vol): \n",
    "    f = 0.01 \n",
    "    delta = 0.25 \n",
    "    C = 0\n",
    "    F_0 = (1 \/ delta) * ( np.exp( delta * f) - 1 )\n",
    "    for i in range(Length * 4):\n",
    "        E = F_0 * (norm.cdf(0.5 * Black_vol * np.sqrt(Ti + delta * i)) - norm.cdf(-0.5 * Black_vol * np.sqrt(Ti + delta * i))) \n",
    "        C += delta * DiscountFactor(0, Ti + delta * (i + 1), f) * E\n",
    "    return C\n",
    "\n",
    "T_is   = [1, 2, 3, 4, 5] \n",
    "length = [2, 2, 2, 2, 2] \n",
    "Black_Vols = [0.15, 0.2, 0.225, 0.225, 0.25]\n",
    "\n",
    "price = [Caps(T_is[i], length[i], Black_Vols[i]) for i in range(len(T_is))]\n",
    "price"
   ],
   "execution_count":56,
   "outputs":[
    {
     "data":{
      "text\/plain":[
       "[0.001582233776715602,\n",
       " 0.002598304044800676,\n",
       " 0.0033568536986579196,\n",
       " 0.0037241292438357494,\n",
       " 0.004477772462164528]"
      ]
     },
     "metadata":{
      
     },
     "output_type":"display_data"
    }
   ],
   "metadata":{
    "datalore":{
     "type":"CODE",
     "hide_input_from_viewers":false,
     "hide_output_from_viewers":false
    }
   }
  },
  {
   "cell_type":"code",
   "source":[
    "sigma_1 = 0.15\n",
    "delta = 0.25\n",
    "f = 0.01\n",
    "F_0 = (1 \/ delta) * ( np.exp( delta * f) - 1 )\n",
    "\n",
    "def E(F_0, Black_vol, Ti):\n",
    "    return F_0 * (norm.cdf(0.5 * Black_vol * np.sqrt(Ti)) - norm.cdf(-0.5 * Black_vol * np.sqrt(Ti))) \n",
    "\n",
    "def root_sigma(sigma_new, price, start, sigma_old): \n",
    "    price_old = 0 \n",
    "    price_new = 0 \n",
    "    for i in range(4): \n",
    "        price_old += delta * DiscountFactor(0, start - 1 + (i + 1) * delta, f) * E(F_0, sigma_old, start - 1 + i * delta) \n",
    "        price_new += delta * DiscountFactor(0, start + (i + 1) * delta, f) * E(F_0, sigma_new, start + i * delta) \n",
    "    return price_old + price_new - price\n",
    "\n",
    "Implied_Vol = [sigma_1] \n",
    "sigma = sigma_1 \n",
    "\n",
    "for i in range(3, 7): \n",
    "    sol_sigma = root(root_sigma, sigma, args = (price[i - 2], i, sigma)) \n",
    "    sigma = sol_sigma.x[0] \n",
    "    Implied_Vol.append(sigma)\n",
    "print(Implied_Vol)"
   ],
   "execution_count":57,
   "outputs":[
    {
     "name":"stdout",
     "text":[
      "[0.15, 0.2428191628142852, 0.20915576717102952, 0.23958757124653962, 0.25976769665246763]\n"
     ],
     "output_type":"stream"
    }
   ],
   "metadata":{
    "datalore":{
     "type":"CODE",
     "hide_input_from_viewers":false,
     "hide_output_from_viewers":false
    }
   }
  },
  {
   "cell_type":"code",
   "source":[
    "Time = np.linspace(1, 7, 24) \n",
    "plt.title(\"Shape of Caplet vs. Caps volatilities\")\n",
    "plt.xlabel(\"Time\") \n",
    "plt.ylabel(\"Volatility\") \n",
    "plt.plot(Time, np.repeat(np.array(Implied_Vol), [8, 4, 4, 4, 4]), label = \"Caplet\", c = 'r')\n",
    "plt.hlines(Black_Vols[0], xmin = 1, xmax = 2.75, color = 'b', label = \"1Y Cap\") \n",
    "plt.hlines(Black_Vols[1], xmin = 2, xmax = 3.75, color = 'g', label = \"2Y Cap\") \n",
    "plt.hlines(Black_Vols[2], xmin = 3, xmax = 4.75, color = 'k', label = \"3Y Cap\") \n",
    "plt.hlines(Black_Vols[3], xmin = 4, xmax = 5.75, color = 'y', label = \"4Y Cap\") \n",
    "plt.hlines(Black_Vols[4], xmin = 5, xmax = 6.75, color = 'c', label = \"5Y Cap\") \n",
    "plt.legend()"
   ],
   "execution_count":58,
   "outputs":[
    {
     "data":{
      "text\/plain":[
       "<matplotlib.legend.Legend at 0x7f7be1c65ee0>"
      ],
      "image\/png":"[encoded data removed]"
     },
     "metadata":{
      "image\/png":{
       
      }
     },
     "output_type":"display_data"
    }
   ],
   "metadata":{
    "datalore":{
     "type":"CODE",
     "hide_input_from_viewers":false,
     "hide_output_from_viewers":false
    }
   }
  },
  {
   "cell_type":"markdown",
   "source":[
    "## Q2 (b)\n",
    "Caps implied volatility is like the weighted average of caplet implied volatilities, measuring the weighted average of each caplet in each period."
   ],
   "attachments":{
    
   },
   "metadata":{
    "datalore":{
     "type":"MD",
     "hide_input_from_viewers":false,
     "hide_output_from_viewers":false
    }
   }
  }
 ],
 "metadata":{
  "datalore":{
   "version":1,
   "computation_mode":"JUPYTER",
   "package_manager":"pip",
   "base_environment":"default",
   "packages":[
    
   ]
  }
 },
 "nbformat":4,
 "nbformat_minor":4
}