{
  "cells":[
    {
      "cell_type":"code",
      "source":[
        "from scipy.optimize import fsolve\n",
        "import numpy as np\n",
        "\n",
        "times = [1, 2, 3, 4, 5, 7, 10, 30]\n",
        "swaps = [0.028438, 0.03060, 0.03126, 0.03144, 0.03150, 0.03169, 0.03210, 0.03237]\n",
        "dic = dict(zip(times, swaps))\n",
        "forward = []\n",
        "def question_a(r1):\n",
        "    # F = 2 * (exp(0.5r1)-1)\n",
        "    return (2 * (np.exp(0.5*r1)-1) * np.exp(-r1*0.5*1) + 2 * (np.exp(0.5*r1)-1) * np.exp(-r1*0.5*2) ) \\\n",
        "    \/ (np.exp(-r1*0.5*1) + np.exp(-r1*0.5*2)) - swaps[0]\n",
        "r1 = fsolve(question_a, 0)"
      ],
      "execution_count":54,
      "outputs":[
        
      ],
      "metadata":{
        "jupyter":{
          "source_hidden":false,
          "outputs_hidden":false
        },
        "datalore":{
          "type":"CODE",
          "sheet_delimiter":false
        }
      }
    },
    {
      "cell_type":"code",
      "source":[
        "forward.append(2*(np.exp(0.5*r1)-1)) #question (a)\n",
        "forward"
      ],
      "execution_count":55,
      "outputs":[
        {
          "data":{
            "text\/plain":[
              "[array([0.028438])]"
            ]
          },
          "metadata":{
            
          },
          "output_type":"display_data"
        }
      ],
      "metadata":{
        "jupyter":{
          "source_hidden":false,
          "outputs_hidden":false
        },
        "datalore":{
          "type":"CODE",
          "sheet_delimiter":false
        }
      }
    },
    {
      "cell_type":"code",
      "source":[
        "up1 = (forward[0] * np.exp(-r1*0.5*1) + forward[0] * np.exp(-r1*0.5*2) )\n",
        "down1 = np.exp(-r1*0.5*1) + np.exp(-r1*0.5*2)"
      ],
      "execution_count":56,
      "outputs":[
        
      ],
      "metadata":{
        "jupyter":{
          "source_hidden":false,
          "outputs_hidden":false
        },
        "datalore":{
          "type":"CODE",
          "sheet_delimiter":false
        }
      }
    },
    {
      "cell_type":"code",
      "source":[
        "#question (b)\n",
        "def question_b(r2):\n",
        "    # F = 2 * (exp(0.5r2)-1)\n",
        "    return (up1 + 2 * (np.exp(0.5*r2)-1) * np.exp(-r1-r2*0.5*1) + 2 * (np.exp(0.5*r2)-1) * np.exp(-r1-r2*0.5*2) ) \\\n",
        "    \/ (down1 + np.exp(-r1-r2*0.5*1) + np.exp(-r1-r2*0.5*2)) - swaps[1]\n",
        "r2 = fsolve(question_b, 0)"
      ],
      "execution_count":57,
      "outputs":[
        
      ],
      "metadata":{
        "jupyter":{
          "source_hidden":false,
          "outputs_hidden":false
        },
        "datalore":{
          "type":"CODE",
          "sheet_delimiter":false
        }
      }
    },
    {
      "cell_type":"code",
      "source":[
        "forward.append(2*(np.exp(0.5*r2)-1))\n",
        "forward"
      ],
      "execution_count":58,
      "outputs":[
        {
          "data":{
            "text\/plain":[
              "[array([0.028438]), array([0.03283113])]"
            ]
          },
          "metadata":{
            
          },
          "output_type":"display_data"
        }
      ],
      "metadata":{
        "jupyter":{
          "source_hidden":false,
          "outputs_hidden":false
        },
        "datalore":{
          "type":"CODE",
          "sheet_delimiter":false
        }
      }
    },
    {
      "cell_type":"code",
      "source":[
        "#question (c)\n",
        "def all_forward():\n",
        "    up = 0\n",
        "    down = 0\n",
        "    cumu_r = 0\n",
        "    forwards = []\n",
        "    for maturity, swap in dic.items():\n",
        "        if maturity <= 5: gap = 1\n",
        "        elif maturity == 7: gap = 2\n",
        "        elif maturity == 10: gap = 3\n",
        "        else: gap = 20\n",
        "        def find_r(r):\n",
        "            if maturity <= 5:\n",
        "                return (up + 2*(np.exp(0.5*r)-1)*( np.exp(-cumu_r-r*0.5) + np.exp(-cumu_r-r) )) \\\n",
        "            \/ ( down + np.exp(-cumu_r-r*0.5) + np.exp(-cumu_r-r) ) - swap \n",
        "            else:\n",
        "                good = sum( np.exp(-cumu_r-r*0.5*i) for i in range(gap))\n",
        "                return ( up + 2*(np.exp(0.5*r)-1)*( good ) ) \\\n",
        "            \/ ( down + good ) - swap \n",
        "        r = fsolve(find_r, 0)\n",
        "        up += 2*(np.exp(0.5*r)-1)*( np.exp(-cumu_r-r*0.5*gap) + np.exp(-cumu_r-r*gap) ) if maturity <= 5 else 2*(np.exp(0.5*r)-1)*sum( np.exp(-cumu_r-r*0.5*i) for i in range(gap))\n",
        "        down += np.exp(-cumu_r-r*0.5*gap) + np.exp(-cumu_r-r*gap) if maturity <=5 else sum( np.exp(-cumu_r-r*0.5*i) for i in range(gap))\n",
        "        cumu_r += r\n",
        "        forwards += 2*(np.exp(0.5*r)-1),\n",
        "        print(r)\n",
        "    return forwards\n",
        "all_forward()"
      ],
      "execution_count":59,
      "outputs":[
        {
          "name":"stdout",
          "text":[
            "[0.02823772]\n",
            "[0.03256457]\n",
            "[0.03238174]\n",
            "[0.03176235]\n",
            "[0.03151051]\n",
            "[0.03245506]\n",
            "[0.0336439]\n",
            "[0.03236779]\n"
          ],
          "output_type":"stream"
        },
        {
          "data":{
            "text\/plain":[
              "[array([0.028438]),\n",
              " array([0.03283113]),\n",
              " array([0.03264531]),\n",
              " array([0.0320159]),\n",
              " array([0.03176005]),\n",
              " array([0.03271983]),\n",
              " array([0.03392847]),\n",
              " array([0.03263113])]"
            ]
          },
          "metadata":{
            
          },
          "output_type":"display_data"
        }
      ],
      "metadata":{
        "jupyter":{
          "source_hidden":false,
          "outputs_hidden":false
        },
        "datalore":{
          "type":"CODE",
          "sheet_delimiter":false
        }
      }
    },
    {
      "cell_type":"code",
      "source":[
        "import matplotlib.pyplot as plt\n",
        "forwards = [0.028438, 0.03283113, 0.03264531, 0.0320159, 0.03176005, 0.03271983, 0.03392847, 0.03263113]\n",
        "fig, (ax1,ax2) = plt.subplots(1, 2, figsize=(20, 10))\n",
        "ax1.plot(swaps, forwards, 'r')\n",
        "ax1.set_xlabel('Swap')\n",
        "ax1.set_ylabel('forwards')\n",
        "ax1.set_title('Forwards rate vs. Swaps rate')\n",
        "\n",
        "ax2.scatter(times, swaps)\n",
        "ax2.scatter(times, forwards)\n",
        "ax2.set_xlabel('Maturity Time')\n",
        "ax2.set_ylabel('Rate')\n",
        "ax2.set_title('Forwards rate vs. Swaps rate')\n",
        "ax2.legend(['Swap','Forwards'])"
      ],
      "execution_count":60,
      "outputs":[
        {
          "data":{
            "text\/plain":[
              "<matplotlib.legend.Legend at 0x7f6d9a39c190>"
            ],
            "image\/png":"[encoded data removed]"
          },
          "metadata":{
            "image\/png":{
              
            }
          },
          "output_type":"display_data"
        }
      ],
      "metadata":{
        "jupyter":{
          "source_hidden":false,
          "outputs_hidden":false
        },
        "datalore":{
          "type":"CODE",
          "sheet_delimiter":false
        }
      }
    },
    {
      "cell_type":"markdown",
      "source":[
        "# Comment\n",
        "### Forward rates are almost higher than swap rates all the time except the first year. Forward rates change more through time than swap rates.\n",
        "### As Swap rates increase, forward rates also increase in a constant slope. When swap rates go as maturity is 7, 10, 30, forward rates don't have linear relation with swap rates."
      ],
      "attachments":{
        
      },
      "metadata":{
        "jupyter":{
          "source_hidden":false,
          "outputs_hidden":false
        },
        "datalore":{
          "type":"MD",
          "sheet_delimiter":false
        }
      }
    },
    {
      "cell_type":"code",
      "source":[
        "#question (d)\n",
        "# forward rates:\n",
        "delta = [1, 1, 1, 1, 1, 2, 3, 20]\n",
        "bench_point = [2, 2, 2, 2, 2, 4, 6, 40]\n",
        "forward_continue = [[forwards[i]]*2*delta[i] for i in range(8)]\n",
        "forward_continue = sum(forward_continue,[])\n",
        "#discount factors:\n",
        "r_forward = [0.02823772,0.03256457,0.03238174,0.03176235,0.03151051,0.03245506,0.0336439,0.03236779]\n",
        "discount, cumu = [], 0\n",
        "for j in range(8):\n",
        "    r = r_forward[j]\n",
        "    for k in range(1, bench_point[j]+1):\n",
        "        discount += np.exp(-cumu-r*0.5*k),\n",
        "    cumu += r\n",
        "    \n",
        "#Do 15Y\n",
        "def swap_rate_of_year(forward_continue, discount):\n",
        "    return sum(map(lambda x,y:x*y, forward_continue, discount))\/sum(discount)\n",
        "swap_rate_of_year(forward_continue[:30], discount[:30])"
      ],
      "execution_count":61,
      "outputs":[
        {
          "data":{
            "text\/plain":[
              "0.03246653995432098"
            ]
          },
          "metadata":{
            
          },
          "output_type":"display_data"
        }
      ],
      "metadata":{
        "jupyter":{
          "source_hidden":false,
          "outputs_hidden":false
        },
        "datalore":{
          "type":"CODE",
          "sheet_delimiter":false
        }
      }
    },
    {
      "cell_type":"code",
      "source":[
        "import pandas as pd\n",
        "#question (e)\n",
        "df = pd.DataFrame()\n",
        "df['all forward'] = forward_continue\n",
        "df['all discount'] = discount\n",
        "df['zero rates'] = np.exp(df['all forward']) - 1\n",
        "df"
      ],
      "execution_count":62,
      "outputs":[
        {
          "data":{
            "text\/html":[
              "<div>\n",
              "<style scoped>\n",
              "    .dataframe tbody tr th:only-of-type {\n",
              "        vertical-align: middle;\n",
              "    }\n",
              "\n",
              "    .dataframe tbody tr th {\n",
              "        vertical-align: top;\n",
              "    }\n",
              "\n",
              "    .dataframe thead th {\n",
              "        text-align: right;\n",
              "    }\n",
              "<\/style>\n",
              "<table border=\"1\" class=\"dataframe\">\n",
              "  <thead>\n",
              "    <tr style=\"text-align: right;\">\n",
              "      <th><\/th>\n",
              "      <th>all forward<\/th>\n",
              "      <th>all discount<\/th>\n",
              "      <th>zero rates<\/th>\n",
              "    <\/tr>\n",
              "  <\/thead>\n",
              "  <tbody>\n",
              "    <tr>\n",
              "      <th>0<\/th>\n",
              "      <td>0.028438<\/td>\n",
              "      <td>0.985980<\/td>\n",
              "      <td>0.028846<\/td>\n",
              "    <\/tr>\n",
              "    <tr>\n",
              "      <th>1<\/th>\n",
              "      <td>0.028438<\/td>\n",
              "      <td>0.972157<\/td>\n",
              "      <td>0.028846<\/td>\n",
              "    <\/tr>\n",
              "    <tr>\n",
              "      <th>2<\/th>\n",
              "      <td>0.032831<\/td>\n",
              "      <td>0.956456<\/td>\n",
              "      <td>0.033376<\/td>\n",
              "    <\/tr>\n",
              "    <tr>\n",
              "      <th>3<\/th>\n",
              "      <td>0.032831<\/td>\n",
              "      <td>0.941009<\/td>\n",
              "      <td>0.033376<\/td>\n",
              "    <\/tr>\n",
              "    <tr>\n",
              "      <th>4<\/th>\n",
              "      <td>0.032645<\/td>\n",
              "      <td>0.925896<\/td>\n",
              "      <td>0.033184<\/td>\n",
              "    <\/tr>\n",
              "    <tr>\n",
              "      <th>5<\/th>\n",
              "      <td>0.032645<\/td>\n",
              "      <td>0.911026<\/td>\n",
              "      <td>0.033184<\/td>\n",
              "    <\/tr>\n",
              "    <tr>\n",
              "      <th>6<\/th>\n",
              "      <td>0.032016<\/td>\n",
              "      <td>0.896672<\/td>\n",
              "      <td>0.032534<\/td>\n",
              "    <\/tr>\n",
              "    <tr>\n",
              "      <th>7<\/th>\n",
              "      <td>0.032016<\/td>\n",
              "      <td>0.882544<\/td>\n",
              "      <td>0.032534<\/td>\n",
              "    <\/tr>\n",
              "    <tr>\n",
              "      <th>8<\/th>\n",
              "      <td>0.031760<\/td>\n",
              "      <td>0.868748<\/td>\n",
              "      <td>0.032270<\/td>\n",
              "    <\/tr>\n",
              "    <tr>\n",
              "      <th>9<\/th>\n",
              "      <td>0.031760<\/td>\n",
              "      <td>0.855168<\/td>\n",
              "      <td>0.032270<\/td>\n",
              "    <\/tr>\n",
              "    <tr>\n",
              "      <th>10<\/th>\n",
              "      <td>0.032720<\/td>\n",
              "      <td>0.841403<\/td>\n",
              "      <td>0.033261<\/td>\n",
              "    <\/tr>\n",
              "    <tr>\n",
              "      <th>11<\/th>\n",
              "      <td>0.032720<\/td>\n",
              "      <td>0.827859<\/td>\n",
              "      <td>0.033261<\/td>\n",
              "    <\/tr>\n",
              "    <tr>\n",
              "      <th>12<\/th>\n",
              "      <td>0.032720<\/td>\n",
              "      <td>0.814534<\/td>\n",
              "      <td>0.033261<\/td>\n",
              "    <\/tr>\n",
              "    <tr>\n",
              "      <th>13<\/th>\n",
              "      <td>0.032720<\/td>\n",
              "      <td>0.801422<\/td>\n",
              "      <td>0.033261<\/td>\n",
              "    <\/tr>\n",
              "    <tr>\n",
              "      <th>14<\/th>\n",
              "      <td>0.033928<\/td>\n",
              "      <td>0.814050<\/td>\n",
              "      <td>0.034511<\/td>\n",
              "    <\/tr>\n",
              "    <tr>\n",
              "      <th>15<\/th>\n",
              "      <td>0.033928<\/td>\n",
              "      <td>0.800470<\/td>\n",
              "      <td>0.034511<\/td>\n",
              "    <\/tr>\n",
              "    <tr>\n",
              "      <th>16<\/th>\n",
              "      <td>0.033928<\/td>\n",
              "      <td>0.787117<\/td>\n",
              "      <td>0.034511<\/td>\n",
              "    <\/tr>\n",
              "    <tr>\n",
              "      <th>17<\/th>\n",
              "      <td>0.033928<\/td>\n",
              "      <td>0.773987<\/td>\n",
              "      <td>0.034511<\/td>\n",
              "    <\/tr>\n",
              "    <tr>\n",
              "      <th>18<\/th>\n",
              "      <td>0.033928<\/td>\n",
              "      <td>0.761076<\/td>\n",
              "      <td>0.034511<\/td>\n",
              "    <\/tr>\n",
              "    <tr>\n",
              "      <th>19<\/th>\n",
              "      <td>0.033928<\/td>\n",
              "      <td>0.748381<\/td>\n",
              "      <td>0.034511<\/td>\n",
              "    <\/tr>\n",
              "    <tr>\n",
              "      <th>20<\/th>\n",
              "      <td>0.032631<\/td>\n",
              "      <td>0.787620<\/td>\n",
              "      <td>0.033169<\/td>\n",
              "    <\/tr>\n",
              "    <tr>\n",
              "      <th>21<\/th>\n",
              "      <td>0.032631<\/td>\n",
              "      <td>0.774976<\/td>\n",
              "      <td>0.033169<\/td>\n",
              "    <\/tr>\n",
              "    <tr>\n",
              "      <th>22<\/th>\n",
              "      <td>0.032631<\/td>\n",
              "      <td>0.762534<\/td>\n",
              "      <td>0.033169<\/td>\n",
              "    <\/tr>\n",
              "    <tr>\n",
              "      <th>23<\/th>\n",
              "      <td>0.032631<\/td>\n",
              "      <td>0.750293<\/td>\n",
              "      <td>0.033169<\/td>\n",
              "    <\/tr>\n",
              "    <tr>\n",
              "      <th>24<\/th>\n",
              "      <td>0.032631<\/td>\n",
              "      <td>0.738248<\/td>\n",
              "      <td>0.033169<\/td>\n",
              "    <\/tr>\n",
              "    <tr>\n",
              "      <th>25<\/th>\n",
              "      <td>0.032631<\/td>\n",
              "      <td>0.726397<\/td>\n",
              "      <td>0.033169<\/td>\n",
              "    <\/tr>\n",
              "    <tr>\n",
              "      <th>26<\/th>\n",
              "      <td>0.032631<\/td>\n",
              "      <td>0.714735<\/td>\n",
              "      <td>0.033169<\/td>\n",
              "    <\/tr>\n",
              "    <tr>\n",
              "      <th>27<\/th>\n",
              "      <td>0.032631<\/td>\n",
              "      <td>0.703261<\/td>\n",
              "      <td>0.033169<\/td>\n",
              "    <\/tr>\n",
              "    <tr>\n",
              "      <th>28<\/th>\n",
              "      <td>0.032631<\/td>\n",
              "      <td>0.691971<\/td>\n",
              "      <td>0.033169<\/td>\n",
              "    <\/tr>\n",
              "    <tr>\n",
              "      <th>29<\/th>\n",
              "      <td>0.032631<\/td>\n",
              "      <td>0.680863<\/td>\n",
              "      <td>0.033169<\/td>\n",
              "    <\/tr>\n",
              "    <tr>\n",
              "      <th>30<\/th>\n",
              "      <td>0.032631<\/td>\n",
              "      <td>0.669932<\/td>\n",
              "      <td>0.033169<\/td>\n",
              "    <\/tr>\n",
              "    <tr>\n",
              "      <th>31<\/th>\n",
              "      <td>0.032631<\/td>\n",
              "      <td>0.659177<\/td>\n",
              "      <td>0.033169<\/td>\n",
              "    <\/tr>\n",
              "    <tr>\n",
              "      <th>32<\/th>\n",
              "      <td>0.032631<\/td>\n",
              "      <td>0.648595<\/td>\n",
              "      <td>0.033169<\/td>\n",
              "    <\/tr>\n",
              "    <tr>\n",
              "      <th>33<\/th>\n",
              "      <td>0.032631<\/td>\n",
              "      <td>0.638183<\/td>\n",
              "      <td>0.033169<\/td>\n",
              "    <\/tr>\n",
              "    <tr>\n",
              "      <th>34<\/th>\n",
              "      <td>0.032631<\/td>\n",
              "      <td>0.627938<\/td>\n",
              "      <td>0.033169<\/td>\n",
              "    <\/tr>\n",
              "    <tr>\n",
              "      <th>35<\/th>\n",
              "      <td>0.032631<\/td>\n",
              "      <td>0.617857<\/td>\n",
              "      <td>0.033169<\/td>\n",
              "    <\/tr>\n",
              "    <tr>\n",
              "      <th>36<\/th>\n",
              "      <td>0.032631<\/td>\n",
              "      <td>0.607938<\/td>\n",
              "      <td>0.033169<\/td>\n",
              "    <\/tr>\n",
              "    <tr>\n",
              "      <th>37<\/th>\n",
              "      <td>0.032631<\/td>\n",
              "      <td>0.598179<\/td>\n",
              "      <td>0.033169<\/td>\n",
              "    <\/tr>\n",
              "    <tr>\n",
              "      <th>38<\/th>\n",
              "      <td>0.032631<\/td>\n",
              "      <td>0.588576<\/td>\n",
              "      <td>0.033169<\/td>\n",
              "    <\/tr>\n",
              "    <tr>\n",
              "      <th>39<\/th>\n",
              "      <td>0.032631<\/td>\n",
              "      <td>0.579127<\/td>\n",
              "      <td>0.033169<\/td>\n",
              "    <\/tr>\n",
              "    <tr>\n",
              "      <th>40<\/th>\n",
              "      <td>0.032631<\/td>\n",
              "      <td>0.569830<\/td>\n",
              "      <td>0.033169<\/td>\n",
              "    <\/tr>\n",
              "    <tr>\n",
              "      <th>41<\/th>\n",
              "      <td>0.032631<\/td>\n",
              "      <td>0.560682<\/td>\n",
              "      <td>0.033169<\/td>\n",
              "    <\/tr>\n",
              "    <tr>\n",
              "      <th>42<\/th>\n",
              "      <td>0.032631<\/td>\n",
              "      <td>0.551681<\/td>\n",
              "      <td>0.033169<\/td>\n",
              "    <\/tr>\n",
              "    <tr>\n",
              "      <th>43<\/th>\n",
              "      <td>0.032631<\/td>\n",
              "      <td>0.542824<\/td>\n",
              "      <td>0.033169<\/td>\n",
              "    <\/tr>\n",
              "    <tr>\n",
              "      <th>44<\/th>\n",
              "      <td>0.032631<\/td>\n",
              "      <td>0.534110<\/td>\n",
              "      <td>0.033169<\/td>\n",
              "    <\/tr>\n",
              "    <tr>\n",
              "      <th>45<\/th>\n",
              "      <td>0.032631<\/td>\n",
              "      <td>0.525536<\/td>\n",
              "      <td>0.033169<\/td>\n",
              "    <\/tr>\n",
              "    <tr>\n",
              "      <th>46<\/th>\n",
              "      <td>0.032631<\/td>\n",
              "      <td>0.517099<\/td>\n",
              "      <td>0.033169<\/td>\n",
              "    <\/tr>\n",
              "    <tr>\n",
              "      <th>47<\/th>\n",
              "      <td>0.032631<\/td>\n",
              "      <td>0.508798<\/td>\n",
              "      <td>0.033169<\/td>\n",
              "    <\/tr>\n",
              "    <tr>\n",
              "      <th>48<\/th>\n",
              "      <td>0.032631<\/td>\n",
              "      <td>0.500630<\/td>\n",
              "      <td>0.033169<\/td>\n",
              "    <\/tr>\n",
              "    <tr>\n",
              "      <th>49<\/th>\n",
              "      <td>0.032631<\/td>\n",
              "      <td>0.492593<\/td>\n",
              "      <td>0.033169<\/td>\n",
              "    <\/tr>\n",
              "    <tr>\n",
              "      <th>50<\/th>\n",
              "      <td>0.032631<\/td>\n",
              "      <td>0.484685<\/td>\n",
              "      <td>0.033169<\/td>\n",
              "    <\/tr>\n",
              "    <tr>\n",
              "      <th>51<\/th>\n",
              "      <td>0.032631<\/td>\n",
              "      <td>0.476904<\/td>\n",
              "      <td>0.033169<\/td>\n",
              "    <\/tr>\n",
              "    <tr>\n",
              "      <th>52<\/th>\n",
              "      <td>0.032631<\/td>\n",
              "      <td>0.469248<\/td>\n",
              "      <td>0.033169<\/td>\n",
              "    <\/tr>\n",
              "    <tr>\n",
              "      <th>53<\/th>\n",
              "      <td>0.032631<\/td>\n",
              "      <td>0.461715<\/td>\n",
              "      <td>0.033169<\/td>\n",
              "    <\/tr>\n",
              "    <tr>\n",
              "      <th>54<\/th>\n",
              "      <td>0.032631<\/td>\n",
              "      <td>0.454302<\/td>\n",
              "      <td>0.033169<\/td>\n",
              "    <\/tr>\n",
              "    <tr>\n",
              "      <th>55<\/th>\n",
              "      <td>0.032631<\/td>\n",
              "      <td>0.447009<\/td>\n",
              "      <td>0.033169<\/td>\n",
              "    <\/tr>\n",
              "    <tr>\n",
              "      <th>56<\/th>\n",
              "      <td>0.032631<\/td>\n",
              "      <td>0.439833<\/td>\n",
              "      <td>0.033169<\/td>\n",
              "    <\/tr>\n",
              "    <tr>\n",
              "      <th>57<\/th>\n",
              "      <td>0.032631<\/td>\n",
              "      <td>0.432772<\/td>\n",
              "      <td>0.033169<\/td>\n",
              "    <\/tr>\n",
              "    <tr>\n",
              "      <th>58<\/th>\n",
              "      <td>0.032631<\/td>\n",
              "      <td>0.425825<\/td>\n",
              "      <td>0.033169<\/td>\n",
              "    <\/tr>\n",
              "    <tr>\n",
              "      <th>59<\/th>\n",
              "      <td>0.032631<\/td>\n",
              "      <td>0.418989<\/td>\n",
              "      <td>0.033169<\/td>\n",
              "    <\/tr>\n",
              "  <\/tbody>\n",
              "<\/table>\n",
              "<\/div>"
            ]
          },
          "metadata":{
            
          },
          "output_type":"display_data"
        }
      ],
      "metadata":{
        "jupyter":{
          "source_hidden":false,
          "outputs_hidden":false
        },
        "datalore":{
          "type":"CODE",
          "sheet_delimiter":false
        }
      }
    },
    {
      "cell_type":"markdown",
      "source":[
        "# Comment\n",
        "Zero rates are higher than swap rates but it's not as stable as swap rates."
      ],
      "attachments":{
        
      },
      "metadata":{
        "jupyter":{
          "source_hidden":false,
          "outputs_hidden":false
        },
        "datalore":{
          "type":"MD",
          "sheet_delimiter":false
        }
      }
    },
    {
      "cell_type":"code",
      "source":[
        "#question (f)\n",
        "forward_continue = [forward+0.01 for forward in forward_continue]\n",
        "change_in_swap = [swap_rate_of_year(forward_continue[:2*i], discount[:2*i]) for i in times]\n",
        "np.array(change_in_swap) - swaps"
      ],
      "execution_count":63,
      "outputs":[
        {
          "data":{
            "text\/html":[
              
            ]
          },
          "metadata":{
            
          },
          "output_type":"display_data"
        }
      ],
      "metadata":{
        "jupyter":{
          "source_hidden":false,
          "outputs_hidden":false
        },
        "datalore":{
          "type":"CODE",
          "sheet_delimiter":false
        }
      }
    },
    {
      "cell_type":"markdown",
      "source":[
        "# It's not directly. Swap rates do increase, but they increase less than forward rates."
      ],
      "attachments":{
        
      },
      "metadata":{
        "jupyter":{
          "source_hidden":false,
          "outputs_hidden":false
        },
        "datalore":{
          "type":"MD",
          "sheet_delimiter":false
        }
      }
    },
    {
      "cell_type":"code",
      "source":[
        "#question (g)\n",
        "bearish_swaps = [0.028438, 0.03060, 0.03126, 0.03194, 0.03250, 0.03319, 0.03460, 0.03737]\n",
        "bearish_swaps"
      ],
      "execution_count":64,
      "outputs":[
        {
          "data":{
            "text\/plain":[
              "[0.028438, 0.0306, 0.03126, 0.03194, 0.0325, 0.03319, 0.0346, 0.03737]"
            ]
          },
          "metadata":{
            
          },
          "output_type":"display_data"
        }
      ],
      "metadata":{
        "jupyter":{
          "source_hidden":false,
          "outputs_hidden":false
        },
        "datalore":{
          "type":"CODE",
          "sheet_delimiter":false
        }
      }
    },
    {
      "cell_type":"code",
      "source":[
        "#question (h)\n",
        "bearish_dic = dict(zip(times, bearish_swaps))\n",
        "\n",
        "def all_forward():\n",
        "    up = 0\n",
        "    down = 0\n",
        "    cumu_r = 0\n",
        "    forwards = []\n",
        "    for maturity, swap in bearish_dic.items():\n",
        "        if maturity <= 5: gap = 1\n",
        "        elif maturity == 7: gap = 2\n",
        "        elif maturity == 10: gap = 3\n",
        "        else: gap = 20\n",
        "        def find_r(r):\n",
        "            if maturity <= 5:\n",
        "                return (up + 2*(np.exp(0.5*r)-1)*( np.exp(-cumu_r-r*0.5) + np.exp(-cumu_r-r) )) \\\n",
        "            \/ ( down + np.exp(-cumu_r-r*0.5) + np.exp(-cumu_r-r) ) - swap \n",
        "            else:\n",
        "                good = sum( np.exp(-cumu_r-r*0.5*i) for i in range(gap))\n",
        "                return ( up + 2*(np.exp(0.5*r)-1)*( good ) ) \\\n",
        "            \/ ( down + good ) - swap \n",
        "        r = fsolve(find_r, 0)\n",
        "        up += 2*(np.exp(0.5*r)-1)*( np.exp(-cumu_r-r*0.5*gap) + np.exp(-cumu_r-r*gap) ) if maturity <= 5 else 2*(np.exp(0.5*r)-1)*sum( np.exp(-cumu_r-r*0.5*i) for i in range(gap))\n",
        "        down += np.exp(-cumu_r-r*0.5*gap) + np.exp(-cumu_r-r*gap) if maturity <=5 else sum( np.exp(-cumu_r-r*0.5*i) for i in range(gap))\n",
        "        cumu_r += r\n",
        "        forwards += 2*(np.exp(0.5*r)-1),\n",
        "    return forwards\n",
        "all_forward()"
      ],
      "execution_count":65,
      "outputs":[
        {
          "data":{
            "text\/plain":[
              "[array([0.028438]),\n",
              " array([0.03283113]),\n",
              " array([0.03264531]),\n",
              " array([0.034119]),\n",
              " array([0.03493695]),\n",
              " array([0.03694902]),\n",
              " array([0.04095669]),\n",
              " array([0.04017318])]"
            ]
          },
          "metadata":{
            
          },
          "output_type":"display_data"
        }
      ],
      "metadata":{
        "jupyter":{
          "source_hidden":false,
          "outputs_hidden":false
        },
        "datalore":{
          "type":"CODE",
          "sheet_delimiter":false
        }
      }
    },
    {
      "cell_type":"code",
      "source":[
        "bearish_for = np.array([0.028438, 0.03283113, 0.03264531, 0.034119, 0.03493695, 0.03694902, 0.04095669, 0.04017318])\n",
        "diff = bearish_for - forwards\n",
        "fig2, (ax1, ax2) = plt.subplots(1,2,figsize=(20,10))\n",
        "ax1.plot([0,0,0,5,10,15,25,50], diff * 10000)\n",
        "ax1.set_xlabel('Swap Increases')\n",
        "ax1.set_ylabel('Forward rates increases')\n",
        "ax1.set_title('Forwards rate vs. Swaps rate')\n",
        "\n",
        "ax2.scatter(times, [0,0,0,5,10,15,25,50])\n",
        "ax2.scatter(times, diff * 10000)\n",
        "ax1.set_xlabel('Swap Increases')\n",
        "ax1.set_ylabel('Forward rates increases')\n",
        "ax2.set_title('Forwards rate vs. Swaps rate')\n",
        "ax2.legend(['Swap','Forwards'])"
      ],
      "execution_count":66,
      "outputs":[
        {
          "data":{
            "text\/plain":[
              "<matplotlib.legend.Legend at 0x7f6d9a3897f0>"
            ],
            "image\/png":"[encoded data removed]"
          },
          "metadata":{
            "image\/png":{
              
            }
          },
          "output_type":"display_data"
        }
      ],
      "metadata":{
        "jupyter":{
          "source_hidden":false,
          "outputs_hidden":false
        },
        "datalore":{
          "type":"CODE",
          "sheet_delimiter":false
        }
      }
    },
    {
      "cell_type":"markdown",
      "source":[
        "# Comment\n",
        "### As swap rates increase, forward rates also increase and is increasing faster than swap rates. When swap rates increase large like 50 bps, the difference between these two changes is not as huge as before."
      ],
      "attachments":{
        
      },
      "metadata":{
        "jupyter":{
          "source_hidden":false,
          "outputs_hidden":false
        },
        "datalore":{
          "type":"MD",
          "sheet_delimiter":false
        }
      }
    },
    {
      "cell_type":"code",
      "source":[
        "#question (i)\n",
        "bull_swaps = [0.023438, 0.028100, 0.029760, 0.030400, 0.031000, 0.031690, 0.032100, 0.032370]\n",
        "bull_swaps"
      ],
      "execution_count":67,
      "outputs":[
        {
          "data":{
            "text\/plain":[
              "[0.023438, 0.0281, 0.02976, 0.0304, 0.031, 0.03169, 0.0321, 0.03237]"
            ]
          },
          "metadata":{
            
          },
          "output_type":"display_data"
        }
      ],
      "metadata":{
        "jupyter":{
          "source_hidden":false,
          "outputs_hidden":false
        },
        "datalore":{
          "type":"CODE",
          "sheet_delimiter":false
        }
      }
    },
    {
      "cell_type":"code",
      "source":[
        "#question (j)\n",
        "bull_dic = dict(zip(times, bull_swaps))\n",
        "\n",
        "def all_forward():\n",
        "    up = 0\n",
        "    down = 0\n",
        "    cumu_r = 0\n",
        "    forwards = []\n",
        "    for maturity, swap in bull_dic.items():\n",
        "        if maturity <= 5: gap = 1\n",
        "        elif maturity == 7: gap = 2\n",
        "        elif maturity == 10: gap = 3\n",
        "        else: gap = 20\n",
        "        def find_r(r):\n",
        "            if maturity <= 5:\n",
        "                return (up + 2*(np.exp(0.5*r)-1)*( np.exp(-cumu_r-r*0.5) + np.exp(-cumu_r-r) )) \\\n",
        "            \/ ( down + np.exp(-cumu_r-r*0.5) + np.exp(-cumu_r-r) ) - swap \n",
        "            else:\n",
        "                good = sum( np.exp(-cumu_r-r*0.5*i) for i in range(gap))\n",
        "                return ( up + 2*(np.exp(0.5*r)-1)*( good ) ) \\\n",
        "            \/ ( down + good ) - swap \n",
        "        r = fsolve(find_r, 0)\n",
        "        up += 2*(np.exp(0.5*r)-1)*( np.exp(-cumu_r-r*0.5*gap) + np.exp(-cumu_r-r*gap) ) if maturity <= 5 else 2*(np.exp(0.5*r)-1)*sum( np.exp(-cumu_r-r*0.5*i) for i in range(gap))\n",
        "        down += np.exp(-cumu_r-r*0.5*gap) + np.exp(-cumu_r-r*gap) if maturity <=5 else sum( np.exp(-cumu_r-r*0.5*i) for i in range(gap))\n",
        "        cumu_r += r\n",
        "        forwards += 2*(np.exp(0.5*r)-1),\n",
        "    return forwards\n",
        "all_forward()"
      ],
      "execution_count":68,
      "outputs":[
        {
          "data":{
            "text\/plain":[
              "[array([0.023438]),\n",
              " array([0.03290536]),\n",
              " array([0.03324375]),\n",
              " array([0.03244841]),\n",
              " array([0.03360504]),\n",
              " array([0.03543941]),\n",
              " array([0.03393609]),\n",
              " array([0.03263202])]"
            ]
          },
          "metadata":{
            
          },
          "output_type":"display_data"
        }
      ],
      "metadata":{
        "jupyter":{
          "source_hidden":false,
          "outputs_hidden":false
        },
        "datalore":{
          "type":"CODE",
          "sheet_delimiter":false
        }
      }
    },
    {
      "cell_type":"code",
      "source":[
        "bull_for = np.array([0.023438, 0.03290536, 0.03324375, 0.03244841, 0.03360504, 0.03543941, 0.03393609, 0.03263202])\n",
        "diff = bull_for - forwards\n",
        "fig3, (ax1, ax2) = plt.subplots(1,2,figsize=(20,10))\n",
        "ax1.plot([-50,-25,-15,-10,-5,0,0,0], diff * 10000)\n",
        "ax1.set_xlabel('Swap Increases')\n",
        "ax1.set_ylabel('Forward rates increases')\n",
        "ax1.set_title('Forwards rate vs. Swaps rate')\n",
        "\n",
        "ax2.scatter(times, [-50,-25,-15,-10,-5,0,0,0])\n",
        "ax2.scatter(times, diff * 10000)\n",
        "ax1.set_xlabel('Swap Increases')\n",
        "ax1.set_ylabel('Forward rates increases')\n",
        "ax2.set_title('Forwards rate vs. Swaps rate')\n",
        "ax2.legend(['Swap','Forwards'])"
      ],
      "execution_count":69,
      "outputs":[
        {
          "data":{
            "text\/plain":[
              "<matplotlib.legend.Legend at 0x7f6d9a133160>"
            ],
            "image\/png":"[encoded data removed]"
          },
          "metadata":{
            "image\/png":{
              
            }
          },
          "output_type":"display_data"
        }
      ],
      "metadata":{
        "jupyter":{
          "source_hidden":false,
          "outputs_hidden":false
        },
        "datalore":{
          "type":"CODE",
          "sheet_delimiter":false
        }
      }
    },
    {
      "cell_type":"markdown",
      "source":[
        "# Comment\n",
        "### When swap rates decrease, forward rates only decrease at the beginning and then increase. Forward rates don't change in long term."
      ],
      "attachments":{
        
      },
      "metadata":{
        "jupyter":{
          "source_hidden":false,
          "outputs_hidden":false
        },
        "datalore":{
          "type":"MD",
          "sheet_delimiter":false
        }
      }
    }
  ],
  "metadata":{
    "datalore":{
      "version":1,
      "computation_mode":"JUPYTER",
      "package_manager":"pip",
      "base_environment":"default",
      "packages":[
        
      ]
    }
  },
  "nbformat":4,
  "nbformat_minor":4
}
